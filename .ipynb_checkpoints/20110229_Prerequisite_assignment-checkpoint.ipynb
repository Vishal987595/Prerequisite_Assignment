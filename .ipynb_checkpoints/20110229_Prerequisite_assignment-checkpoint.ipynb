{
 "cells": [
  {
   "cell_type": "markdown",
   "id": "d2aa853e",
   "metadata": {},
   "source": [
    "# 1. \n",
    "To perform a matrix multiplication beetween (n,k) and (k,m) matrix number of Multiplications performed are <br>\n",
    "For one location in final matrix $ = k $ multiplications <br>\n",
    "For one such row $ = k*m $ multiplications <br>\n",
    "For given matrix $ = n*m*k $ <br> <hr>\n",
    "Additions performed are <br>\n",
    "For one location in final matrix $ = (k-1)$ additions <br>\n",
    "For one such row $ = (k-1)*m $ additions <br>\n",
    "For give matrices $ = (k-1)*m*n $ additions <br>"
   ]
  },
  {
   "cell_type": "markdown",
   "id": "aa93860a",
   "metadata": {},
   "source": [
    "# 2."
   ]
  },
  {
   "cell_type": "code",
   "execution_count": 1,
   "id": "3daf90ae",
   "metadata": {},
   "outputs": [],
   "source": [
    "# Using nested list\n",
    "def trivial_mult(a, b):\n",
    "    n = len(a)\n",
    "    k = len(a[0])\n",
    "    m = len(b[0])\n",
    "    c = []\n",
    "    # c = a * b\n",
    "    for i in range(n):\n",
    "        row = []\n",
    "        for j in range(m):\n",
    "            temp = 0\n",
    "            for l in range(k):\n",
    "                temp = temp + a[i][l] * b[l][j]\n",
    "            row.append(temp)\n",
    "        c.append(row)\n",
    "    return c\n",
    "\n",
    "# Using numpy method\n",
    "def opt_mult(a, b):\n",
    "    return np.matmul(a,b)    "
   ]
  },
  {
   "cell_type": "code",
   "execution_count": 2,
   "id": "5ae5a375",
   "metadata": {},
   "outputs": [
    {
     "name": "stdout",
     "output_type": "stream",
     "text": [
      "2.94 µs ± 80.8 ns per loop (mean ± std. dev. of 7 runs, 100000 loops each)\n",
      "5.79 µs ± 744 ns per loop (mean ± std. dev. of 7 runs, 100000 loops each)\n"
     ]
    }
   ],
   "source": [
    "import numpy as np\n",
    "a = [[2,2],[3,3]]\n",
    "b = [[5,6], [4,9]]\n",
    "%timeit trivial_mult(a, b)\n",
    "%timeit opt_mult(a, b)"
   ]
  },
  {
   "cell_type": "markdown",
   "id": "2db041a9",
   "metadata": {},
   "source": [
    "If we look at mean then nested list multiplication is faster but when considering the deviation we could say that in worst cases numpy method would stand efficient."
   ]
  },
  {
   "cell_type": "markdown",
   "id": "25d417ee",
   "metadata": {},
   "source": [
    "# 3.\n",
    "\n",
    "When we proceed as per given method then <br>\n",
    "When N is Odd:<br>\n",
    "    median = element coming out in (N+1)/2 iteration<br>\n",
    "When N is even<br>\n",
    "    median = Avg of output of (N/2) and (N/2 + 1) iterations<br>\n",
    "One iteration takes O(N) steps.\n",
    "Therefore, $ O(N^2) $ complexity.\n",
    "<hr>\n",
    "Better method is to use inbuilt sort method and pickup required elements or direct use inbuilt method to find median."
   ]
  },
  {
   "cell_type": "code",
   "execution_count": 3,
   "id": "884e7606",
   "metadata": {},
   "outputs": [
    {
     "name": "stdout",
     "output_type": "stream",
     "text": [
      "395 ns ± 2.64 ns per loop (mean ± std. dev. of 7 runs, 1000000 loops each)\n",
      "12.3 µs ± 343 ns per loop (mean ± std. dev. of 7 runs, 100000 loops each)\n",
      "6.5 6.5\n"
     ]
    }
   ],
   "source": [
    "# finding median as per mentioned method\n",
    "def find_median(a):\n",
    "    n = len(a)\n",
    "    a.sort()\n",
    "    if (n%2 == 1):\n",
    "        return a[(n-1)/2]\n",
    "    else:\n",
    "        return (a[int(n/2)-1] + a[int(n/2)])/2\n",
    "    return 2\n",
    "    \n",
    "def inbuilt_median(a):\n",
    "    return np.median(a)\n",
    "\n",
    "a = [3, 5, 48, 8]\n",
    "%timeit find_median(a)\n",
    "%timeit inbuilt_median(a)\n",
    "print(find_median(a), inbuilt_median(a))"
   ]
  },
  {
   "cell_type": "markdown",
   "id": "ff2e3657",
   "metadata": {},
   "source": [
    "# 4.\n",
    "let, $ f = x^2y + y^3\\sin{x} \\\\\n",
    "\\frac{\\partial f}{\\partial x} = 2xy + y^3\\cos{x} \\\\ \n",
    "\\frac{\\partial f}{\\partial y} = x^2 + 3y^2\\sin{x}\n",
    "$"
   ]
  },
  {
   "cell_type": "markdown",
   "id": "348faf74",
   "metadata": {},
   "source": [
    "# 5."
   ]
  },
  {
   "cell_type": "code",
   "execution_count": 4,
   "id": "4fe53614",
   "metadata": {},
   "outputs": [
    {
     "name": "stderr",
     "output_type": "stream",
     "text": [
      "WARNING:absl:No GPU/TPU found, falling back to CPU. (Set TF_CPP_MIN_LOG_LEVEL=0 and rerun for more info.)\n"
     ]
    },
    {
     "name": "stdout",
     "output_type": "stream",
     "text": [
      "Function value at x=0.8617071609405095 and y=0.7613411505437998 is 0.9002556800842285 \n",
      " diff w.r.t x is 1.5994582176208496 & 1.5994582176208496 \n",
      " diff w.r.t y is2.062302350997925 & 2.062302350997925\n",
      "Function value at x=0.6541686628143336 and y=0.2862229914296319 is 0.13675366342067719 \n",
      " diff w.r.t x is 0.3930838108062744 & 0.3930838108062744 \n",
      " diff w.r.t y is0.577488124370575 & 0.577488124370575\n",
      "Function value at x=0.34498961754535973 and y=0.1738739553785219 is 0.02247180975973606 \n",
      " diff w.r.t x is 0.12491628527641296 & 0.12491627782583237 \n",
      " diff w.r.t y is0.1496901959180832 & 0.1496901959180832\n"
     ]
    }
   ],
   "source": [
    "import jax\n",
    "import jax.numpy as jnp\n",
    "def func(x, y):\n",
    "    ans = x**2 * y + y**3 * jnp.sin(x)\n",
    "    return ans\n",
    "def diff_x(x, y):\n",
    "    return 2*x*y + y**3*jnp.cos(x)\n",
    "def diff_y(x, y):\n",
    "    return x**2 + 3*y**2*jnp.sin(x)\n",
    "f_y = jax.grad(fun = func, argnums=(1))\n",
    "f_x = jax.grad(fun = func, argnums=(0))\n",
    "for i in range(3):\n",
    "    x = np.random.rand()\n",
    "    y = np.random.rand()\n",
    "    print(f'Function value at x={x} and y={y} is {func(x,y)} \\n diff w.r.t x is {f_x(x,y)} & {diff_x(x,y)} \\n diff w.r.t y is{f_y(x,y)} & {diff_y(x,y)}')"
   ]
  },
  {
   "cell_type": "markdown",
   "id": "46059f85",
   "metadata": {},
   "source": [
    "# 6."
   ]
  },
  {
   "cell_type": "code",
   "execution_count": 5,
   "id": "b20b0882",
   "metadata": {},
   "outputs": [
    {
     "name": "stdout",
     "output_type": "stream",
     "text": [
      "2*x*y + y**3*cos(x)\n",
      "x**2 + 3*y**2*sin(x)\n"
     ]
    }
   ],
   "source": [
    "from sympy import *\n",
    "x, y = symbols('x y')\n",
    "expr = x**2 * y + y**3 * sin(x)\n",
    "print(expr.diff((x, 1)))\n",
    "print(expr.diff((y, 1)))"
   ]
  },
  {
   "cell_type": "markdown",
   "id": "a0e15e99",
   "metadata": {},
   "source": [
    "# 7.\n"
   ]
  },
  {
   "cell_type": "code",
   "execution_count": 6,
   "id": "3ea1cec4",
   "metadata": {},
   "outputs": [],
   "source": [
    "database = {2022:{\"Branch1\":\n",
    "              {\"Roll Number\": 1, \"Name\": \"N\", \n",
    "                         \"Marks\":{\"Maths\": 100, \"English\": 70}}\n",
    "             , \"Branch2\":\n",
    "              {\"Roll Number\": 2, \"Name\": \"N\", \n",
    "                         \"Marks\":{\"Maths\": 100, \"English\": 70}}}\n",
    "       ,2023:{\"Branch1\":\n",
    "              {\"Roll Number\": 3, \"Name\": \"N\", \n",
    "                         \"Marks\":{\"Maths\": 100, \"English\": 70}}\n",
    "              ,\"Branch2\":\n",
    "              {\"Roll Number\": 4, \"Name\": \"N\", \n",
    "                         \"Marks\":{\"Maths\": 100, \"English\": 70}}}\n",
    "       ,2024:{\"Branch1\":\n",
    "              {\"Roll Number\": 5, \"Name\": \"N\", \n",
    "                         \"Marks\":{\"Maths\": 100, \"English\": 70}}\n",
    "              ,\"Branch2\":\n",
    "              {\"Roll Number\": 6, \"Name\": \"N\", \n",
    "                         \"Marks\":{\"Maths\": 100, \"English\": 70}}}\n",
    "       ,2023:{\"Branch1\":\n",
    "              {\"Roll Number\": 7, \"Name\": \"N\", \n",
    "                         \"Marks\":{\"Maths\": 100, \"English\": 70}}\n",
    "              ,\"Branch2\":\n",
    "              {\"Roll Number\": 8, \"Name\": \"N\", \n",
    "                         \"Marks\":{\"Maths\": 100, \"English\": 70}}}}\n",
    "# print(database[2024][\"Branch1\"][\"Roll Number\"])"
   ]
  },
  {
   "cell_type": "markdown",
   "id": "a1c4d676",
   "metadata": {},
   "source": [
    "# 8."
   ]
  },
  {
   "cell_type": "code",
   "execution_count": 7,
   "id": "8fc3e7b7",
   "metadata": {},
   "outputs": [
    {
     "data": {
      "text/plain": [
       "'V501'"
      ]
     },
     "execution_count": 7,
     "metadata": {},
     "output_type": "execute_result"
    }
   ],
   "source": [
    "class Student():\n",
    "    def __init__(self, rollnumber, name, marks):\n",
    "        self.Roll_Number = rollnumber\n",
    "        self.Name = name\n",
    "        self.Marks = marks\n",
    "class Branch(Student):\n",
    "    def __init__(self, name, students):\n",
    "        self.branch_name = name \n",
    "        self.students = students\n",
    "class Year(Branch):\n",
    "    def __init__(self, year, branches):\n",
    "        self.year = year\n",
    "        self.branches = branches\n",
    "marks = {\"Maths\": 100, \"English\": 70}\n",
    "database = [Year(i, [Branch (j, \n",
    "                             [Student (rollnumber = k, name=f'V{k}', marks = marks) for k in range(500, 503)]) \n",
    "                     for j in range(1,2)]) \n",
    "            for i in range(2022, 2026)]\n",
    "\n",
    "database[0].branches[0].students[1].Name"
   ]
  },
  {
   "cell_type": "markdown",
   "id": "73b21b2b",
   "metadata": {},
   "source": [
    "# 9."
   ]
  },
  {
   "cell_type": "code",
   "execution_count": 8,
   "id": "7f5c4aba",
   "metadata": {
    "scrolled": true
   },
   "outputs": [
    {
     "data": {
      "image/png": "[encoded data removed]",
      "text/plain": [
       "<Figure size 640x480 with 9 Axes>"
      ]
     },
     "metadata": {},
     "output_type": "display_data"
    }
   ],
   "source": [
    "import matplotlib.pyplot as plt\n",
    "import numpy as np\n",
    "x = np.linspace(0.5, 100.0, 200)\n",
    "fun = [x, x**2, x**3/100, np.sin(x), np.sin(x)/x, np.log(x), np.exp(x)]\n",
    "lab = [r\"$y=x$\", r\"$y=x^2$\", r\"$y=(x^3)/100$\",r\"$y=\\sin{x}$\",r\"$y=\\sin{x}/x$\",r\"$y=\\ln{x}$\",r\"$\\exp{x}$\"]\n",
    "figure, axis = plt.subplots(3,3)\n",
    "plt.rcParams[\"figure.figsize\"] = [20,20]\n",
    "axis[0,0].plot(x, fun[0])\n",
    "axis[0,0].set_title(lab[0])\n",
    "axis[0,1].plot(x, fun[1])\n",
    "axis[0,1].set_title(lab[1])\n",
    "axis[0,2].plot(x, fun[2])\n",
    "axis[0,2].set_title(lab[2])\n",
    "axis[1,0].plot(x, fun[3])\n",
    "axis[1,0].set_title(lab[3])\n",
    "axis[1,1].plot(x, fun[4])\n",
    "axis[1,1].set_title(lab[4])\n",
    "axis[1,2].plot(x, fun[5])\n",
    "axis[1,2].set_title(lab[5])\n",
    "axis[2,0].plot(x, fun[6])\n",
    "axis[2,0].set_title(lab[6])\n",
    "plt.show()\n"
   ]
  },
  {
   "cell_type": "markdown",
   "id": "9b98ab5f",
   "metadata": {},
   "source": [
    "# 10. and 11."
   ]
  },
  {
   "cell_type": "code",
   "execution_count": 9,
   "id": "da723838",
   "metadata": {},
   "outputs": [
    {
     "name": "stdout",
     "output_type": "stream",
     "text": [
      "Row with least mean is 15\n",
      "Column with max standadrd deviation is b\n"
     ]
    }
   ],
   "source": [
    "import pandas as pd\n",
    "np.random.seed(0)\n",
    "mat = np.random.uniform(low=1.0, high=2.0, size=(20,5))\n",
    "df = pd.DataFrame(mat)\n",
    "df.columns = [\"a\", \"b\", \"c\", \"d\", \"e\"]\n",
    "\n",
    "row_mean = np.argmin(df.mean(axis=1))\n",
    "column_max_std= df.columns[np.argmin(df.std(axis=0))]\n",
    "\n",
    "print(\"Row with least mean is\", row_mean)\n",
    "print(\"Column with max standadrd deviation is\", column_max_std)"
   ]
  },
  {
   "cell_type": "code",
   "execution_count": 10,
   "id": "5a3fcf42",
   "metadata": {},
   "outputs": [
    {
     "name": "stdout",
     "output_type": "stream",
     "text": [
      "No. of rows with LT8 is 16\n",
      "Standard deviation of values in column \"f\" with values LT8 and GT8 is 0.555075090573796 and 0.2654357309476843 respectively\n"
     ]
    }
   ],
   "source": [
    "# Column f with sum of values in row\n",
    "df[\"f\"] = df.sum(axis=1)\n",
    "\n",
    "# Column g containing comparision value of values in column f\n",
    "g_column = []\n",
    "for i in (df[\"f\"].tolist()):\n",
    "    g_column.append(\"LT8\" if (i < 8) else \"GT8\")\n",
    "df[\"g\"] = g_column\n",
    "\n",
    "# Counting the rows having value LT8 in column g\n",
    "count = df[\"g\"].value_counts()\n",
    "print(\"No. of rows with LT8 is\", count[\"LT8\"])\n",
    "\n",
    "# Calculating standard deviation of values in col f as per value in column g\n",
    "LT8_std = df.loc[df[\"g\"]==\"LT8\"][\"f\"].std()\n",
    "GT8_std = df.loc[df[\"g\"]==\"GT8\"][\"f\"].std()\n",
    "print(f'Standard deviation of values in column \"f\" with values LT8 and GT8 is {LT8_std} and {GT8_std} respectively')"
   ]
  },
  {
   "cell_type": "markdown",
   "id": "ddfd8d03",
   "metadata": {},
   "source": [
    "# 12."
   ]
  },
  {
   "cell_type": "code",
   "execution_count": 11,
   "id": "894b412c",
   "metadata": {},
   "outputs": [
    {
     "name": "stdout",
     "output_type": "stream",
     "text": [
      "[[ 8 20]\n",
      " [28 30]]\n",
      "[20 40]\n",
      "ValueError: operands could not be broadcast together with shapes (2,3) (2,)\n"
     ]
    }
   ],
   "source": [
    "a = np.array([[2, 4], [7,6]])\n",
    "b = np.array([4,5])\n",
    "a.shape # (2,2)\n",
    "b.shape # (2,)\n",
    "c = a*b\n",
    "print(c)\n",
    "# Here, b is first extended to shape (1,2) and then to (2,2) which gives us \n",
    "# [[4,5],[4,5]] and then multiplication is performed element wise.\n",
    "\n",
    "x = np.array([[2, 5, 7], [4, 6, 3]])\n",
    "y = np.array([5, 8])\n",
    "y.shape #(2,)\n",
    "p = b*y\n",
    "print(p)\n",
    "# Here same shape arrays gets directly used in binary operations\n",
    "\n",
    "x.shape # (2,3)\n",
    "try:\n",
    "    z = x*y\n",
    "except:\n",
    "    print(\"ValueError: operands could not be broadcast together with shapes (2,3) (2,)\")\n",
    "# Here, y is first extended to shape (1,2) and then to (2,2) but it isn't equal\n",
    "# (2,3) to conduct element wise multiplication and therefore returns error\n"
   ]
  },
  {
   "cell_type": "markdown",
   "id": "a364be5c",
   "metadata": {},
   "source": [
    "# 13."
   ]
  },
  {
   "cell_type": "code",
   "execution_count": 12,
   "id": "fafddacd",
   "metadata": {},
   "outputs": [
    {
     "name": "stdout",
     "output_type": "stream",
     "text": [
      "84 51 23 45 10 95\n",
      "argmin is 4\n"
     ]
    }
   ],
   "source": [
    "a = list(input().split())\n",
    "try:\n",
    "    a = np.array(a, dtype=float)\n",
    "except:\n",
    "    print(\"Give floating numbers or int as input\")\n",
    "\n",
    "pos = 0\n",
    "for i in range(len(a)):\n",
    "#     print(a[i], a[pos], pos)\n",
    "    if (a[i] < a[pos]):\n",
    "        pos = i \n",
    "\n",
    "# Check the calculated index with inbuilt method\n",
    "if (pos == np.argmin(a)):\n",
    "    print(\"argmin is\", pos)\n",
    "else:\n",
    "    print(\"Incorrect method\")"
   ]
  }
 ],
 "metadata": {
  "kernelspec": {
   "display_name": "Python 3 (ipykernel)",
   "language": "python",
   "name": "python3"
  },
  "language_info": {
   "codemirror_mode": {
    "name": "ipython",
    "version": 3
   },
   "file_extension": ".py",
   "mimetype": "text/x-python",
   "name": "python",
   "nbconvert_exporter": "python",
   "pygments_lexer": "ipython3",
   "version": "3.7.13"
  }
 },
 "nbformat": 4,
 "nbformat_minor": 5
}
